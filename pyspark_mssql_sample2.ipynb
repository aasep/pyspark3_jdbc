{
 "cells": [
  {
   "cell_type": "code",
   "execution_count": 1,
   "metadata": {},
   "outputs": [
    {
     "name": "stdout",
     "output_type": "stream",
     "text": [
      "+---+-------+------+------+\n",
      "| Id|   Name|Gender|Salary|\n",
      "+---+-------+------+------+\n",
      "|  1| Sailor|  Male|   200|\n",
      "|  2|  Ricky|  Male|   300|\n",
      "|  3| Martin|  Male|   400|\n",
      "|  9| Alisha|Female|   200|\n",
      "| 10|  Elena|Female|   300|\n",
      "| 11|  Bravo|Female|   300|\n",
      "| 12| Samuel|  Male|   300|\n",
      "| 13|Jasmine|Female|   400|\n",
      "| 14|   Bram|  Male|   400|\n",
      "+---+-------+------+------+\n",
      "\n"
     ]
    }
   ],
   "source": [
    "import pyspark\n",
    "#import required modules\n",
    "from pyspark import SparkConf, SparkContext\n",
    "from pyspark.sql import SparkSession\n",
    " \n",
    "#Create spark configuration object\n",
    "conf = SparkConf()\n",
    "conf.setMaster(\"local\").setAppName(\"My app\")\n",
    " \n",
    "#Create spark context and sparksession\n",
    "sc = SparkContext.getOrCreate(conf=conf)\n",
    "spark = SparkSession(sc)\n",
    "#set variable to be used to connect the database\n",
    "database = \"testDB\"\n",
    "table = \"dbo.Employee\"\n",
    "user = \"sa\"\n",
    "password  = \"Instance12\"\n",
    " \n",
    "#read table data into a spark dataframe\n",
    "jdbcDF = spark.read.format(\"jdbc\") \\\n",
    "    .option(\"url\", f\"jdbc:sqlserver://localhost:1433;databaseName={database};\") \\\n",
    "    .option(\"query\", \"select Id,Name,Gender,Salary from Employee where salary < 500 \") \\\n",
    "    .option(\"user\", user) \\\n",
    "    .option(\"password\", password) \\\n",
    "    .option(\"driver\", \"com.microsoft.sqlserver.jdbc.SQLServerDriver\") \\\n",
    "    .load()\n",
    " \n",
    "#show the data loaded into dataframe\n",
    "jdbcDF.show()"
   ]
  }
 ],
 "metadata": {
  "kernelspec": {
   "display_name": "Python 3",
   "language": "python",
   "name": "python3"
  },
  "language_info": {
   "codemirror_mode": {
    "name": "ipython",
    "version": 3
   },
   "file_extension": ".py",
   "mimetype": "text/x-python",
   "name": "python",
   "nbconvert_exporter": "python",
   "pygments_lexer": "ipython3",
   "version": "3.8.5"
  }
 },
 "nbformat": 4,
 "nbformat_minor": 4
}
