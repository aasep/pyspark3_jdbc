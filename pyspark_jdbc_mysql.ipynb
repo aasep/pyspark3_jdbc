{
 "cells": [
  {
   "cell_type": "code",
   "execution_count": 18,
   "metadata": {},
   "outputs": [
    {
     "name": "stdout",
     "output_type": "stream",
     "text": [
      "+---+--------------------+----------+-------+-------------------+\n",
      "| id|            category|     token|minutes|             add_dt|\n",
      "+---+--------------------+----------+-------+-------------------+\n",
      "|  1|examination semet...|  nBvnR234|     60|2021-01-02 17:48:28|\n",
      "|  2|ujian semester Ge...|   xcVbnzA|     60|2021-01-03 01:11:40|\n",
      "|  5|ujian semester ga...|GHdio6MZ9g|    320|2021-01-03 14:20:32|\n",
      "+---+--------------------+----------+-------+-------------------+\n",
      "\n"
     ]
    }
   ],
   "source": [
    "import pyspark\n",
    "#import required modules\n",
    "from pyspark import SparkConf, SparkContext\n",
    "from pyspark.sql import SparkSession\n",
    " \n",
    "#Create spark configuration object\n",
    "conf = SparkConf()\n",
    "conf.setMaster(\"local\").setAppName(\"My app\")\n",
    " \n",
    "#Create spark context and sparksession\n",
    "sc = SparkContext.getOrCreate(conf=conf)\n",
    "spark = SparkSession(sc)\n",
    "#set variable to be used to connect the database\n",
    "\n",
    "username = \"admin\"\n",
    "password  = \"Instance12\"\n",
    "\n",
    "jdbcDF = spark.read.format(\"jdbc\").options(\n",
    "    url=\"jdbc:mysql://localhost:3306/ortho_exam\",\n",
    "    driver = \"com.mysql.jdbc.Driver\",\n",
    "    query = \"select * from category where id < 7 \",\n",
    "    user=\"admin\",\n",
    "    password=\"Instance12\").load()\n",
    "\n",
    "#display(dataframe_mysql)\n",
    "jdbcDF.show()"
   ]
  },
  {
   "cell_type": "code",
   "execution_count": null,
   "metadata": {},
   "outputs": [],
   "source": []
  }
 ],
 "metadata": {
  "kernelspec": {
   "display_name": "Python 3",
   "language": "python",
   "name": "python3"
  },
  "language_info": {
   "codemirror_mode": {
    "name": "ipython",
    "version": 3
   },
   "file_extension": ".py",
   "mimetype": "text/x-python",
   "name": "python",
   "nbconvert_exporter": "python",
   "pygments_lexer": "ipython3",
   "version": "3.8.5"
  }
 },
 "nbformat": 4,
 "nbformat_minor": 4
}
